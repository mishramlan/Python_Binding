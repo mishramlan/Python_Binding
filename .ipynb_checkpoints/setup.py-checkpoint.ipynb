{
 "cells": [
  {
   "cell_type": "code",
   "execution_count": 3,
   "metadata": {},
   "outputs": [],
   "source": [
    "from setuptools import setup, find_packages, Extension"
   ]
  },
  {
   "cell_type": "code",
   "execution_count": 6,
   "metadata": {},
   "outputs": [],
   "source": [
    "extensions = Extension(name='', sources=[])"
   ]
  },
  {
   "cell_type": "code",
   "execution_count": null,
   "metadata": {},
   "outputs": [],
   "source": [
    "setup(\n",
    "name= '',\n",
    "version='',\n",
    "description='',\n",
    "long_description='',\n",
    "author='',\n",
    "packages=find_packages(),\n",
    "install_requires=['numpy>=1.16.3',\n",
    "        'NuMPI>=0.3.0',\n",
    "        'muFFT>=0.12.0',\n",
    "        'scipy>=1.6.0',\n",
    "        'matplotlib>=1.0.0',\n",
    "        'python-dateutil',],\n",
    "extras_require=[],\n",
    "setup_requires=['setuptools_scm>=3.5.0',\n",
    "        'pytest-runner', 'flake8'],\n",
    "tests_require=['pytest'],\n",
    "package_data={},\n",
    "ext_libraries=extensions,\n",
    ")"
   ]
  }
 ],
 "metadata": {
  "kernelspec": {
   "display_name": "Python 3 (ipykernel)",
   "language": "python",
   "name": "python3"
  },
  "language_info": {
   "codemirror_mode": {
    "name": "ipython",
    "version": 3
   },
   "file_extension": ".py",
   "mimetype": "text/x-python",
   "name": "python",
   "nbconvert_exporter": "python",
   "pygments_lexer": "ipython3",
   "version": "3.8.10"
  }
 },
 "nbformat": 4,
 "nbformat_minor": 4
}
